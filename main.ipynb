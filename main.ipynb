{
 "cells": [
  {
   "cell_type": "markdown",
   "metadata": {},
   "source": [
    "<h1 style=\"font-family:Impact,Arial;font-size:30px;\">37005 Fundamental of Derivative Security Pricing - Spring 2024</h1>\n",
    "<h1 style=\"font-family:Impact,Arial;font-size:20px;\">Group Assignment Part 1</h1>\n",
    "<p style=\"font-family:Arial;\">Group 1</p>\n",
    "<ul>\n",
    "<li>Hayoung Lee</li>\n",
    "<li>Quoc Thai Tran</li>\n",
    "<li>Alexis Cullet</li>\n",
    "<li>Ziqi Zhou</li>\n",
    "</ul>\n"
   ]
  },
  {
   "cell_type": "markdown",
   "metadata": {},
   "source": [
    "# Import package\n"
   ]
  },
  {
   "cell_type": "code",
   "execution_count": null,
   "metadata": {},
   "outputs": [],
   "source": [
    "import pandas as pd\n",
    "import numpy as np"
   ]
  }
 ],
 "metadata": {
  "kernelspec": {
   "display_name": "venv",
   "language": "python",
   "name": "python3"
  },
  "language_info": {
   "name": "python",
   "version": "3.12.3"
  }
 },
 "nbformat": 4,
 "nbformat_minor": 2
}
